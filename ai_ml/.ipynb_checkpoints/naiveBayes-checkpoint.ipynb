{
 "cells": [
  {
   "cell_type": "code",
   "execution_count": 4,
   "id": "38809167-3747-40a7-8389-41fc433fe19a",
   "metadata": {},
   "outputs": [
    {
     "name": "stdout",
     "output_type": "stream",
     "text": [
      "Accuracy: 0.86\n",
      "Confusion Matrix:\n",
      "[[58  0  0  0  1  0  0  0  0  0]\n",
      " [ 0 34  0  0  1  0  2  3  8  1]\n",
      " [ 0  0 39  0  0  0  0  0  9  1]\n",
      " [ 0  0  2 51  0  2  0  0  8  1]\n",
      " [ 0  1  0  0 56  0  2  2  0  0]\n",
      " [ 0  0  0  1  0 42  3  0  1  0]\n",
      " [ 0  0  0  0  0  0 51  0  0  0]\n",
      " [ 0  0  0  0  0  0  0 57  0  0]\n",
      " [ 0  0  0  0  0  0  0  2 43  1]\n",
      " [ 0  0  1  6  2  2  0  6  6 34]]\n"
     ]
    }
   ],
   "source": [
    "from sklearn.datasets import load_digits\n",
    "from sklearn.metrics import confusion_matrix,accuracy_score\n",
    "from sklearn.naive_bayes import GaussianNB\n",
    "from sklearn.model_selection import train_test_split\n",
    "\n",
    "digits = load_digits()\n",
    "x = digits.data\n",
    "y = digits.target\n",
    "\n",
    "gnb = GaussianNB()\n",
    "\n",
    "x_train,x_test,y_train,y_test = train_test_split(x,y,test_size=0.3,random_state=1)\n",
    "\n",
    "gnb.fit(x_test,y_test)\n",
    "\n",
    "y_test_pred = gnb.predict(x_test)\n",
    "\n",
    "ac = accuracy_score(y_test,y_test_pred)\n",
    "\n",
    "cm = confusion_matrix(y_test,y_test_pred)\n",
    "\n",
    "print(f\"Accuracy: {ac:0.2f}\")\n",
    "\n",
    "print(\"Confusion Matrix:\")\n",
    "print(cm)"
   ]
  },
  {
   "cell_type": "code",
   "execution_count": null,
   "id": "90619f58-192d-4049-b281-e850b759d99e",
   "metadata": {},
   "outputs": [],
   "source": []
  }
 ],
 "metadata": {
  "kernelspec": {
   "display_name": "Python 3 (ipykernel)",
   "language": "python",
   "name": "python3"
  },
  "language_info": {
   "codemirror_mode": {
    "name": "ipython",
    "version": 3
   },
   "file_extension": ".py",
   "mimetype": "text/x-python",
   "name": "python",
   "nbconvert_exporter": "python",
   "pygments_lexer": "ipython3",
   "version": "3.12.4"
  }
 },
 "nbformat": 4,
 "nbformat_minor": 5
}
