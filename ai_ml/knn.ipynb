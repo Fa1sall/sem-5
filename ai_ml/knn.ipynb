{
 "cells": [
  {
   "cell_type": "code",
   "execution_count": 14,
   "id": "007aceef-5c1e-43ac-93bd-ffe3ee26c34b",
   "metadata": {},
   "outputs": [
    {
     "name": "stdout",
     "output_type": "stream",
     "text": [
      "Accuracy: 0.99\n",
      "Confusion Matrix: \n",
      "[[64  0  0  0  0  0  0  0  0  0]\n",
      " [ 0 56  0  0  0  0  0  0  0  0]\n",
      " [ 0  0 56  0  0  0  0  0  0  0]\n",
      " [ 0  0  0 56  0  0  0  0  0  0]\n",
      " [ 0  0  0  0 60  0  0  1  0  0]\n",
      " [ 0  0  0  0  0 47  0  0  0  2]\n",
      " [ 0  0  0  0  0  0 42  0  0  0]\n",
      " [ 0  0  0  0  0  0  0 57  0  0]\n",
      " [ 0  1  0  0  0  0  0  0 50  1]\n",
      " [ 0  0  0  1  1  0  0  0  1 44]]\n"
     ]
    }
   ],
   "source": [
    "from sklearn.datasets import load_digits\n",
    "from sklearn.metrics import accuracy_score,confusion_matrix\n",
    "from sklearn.model_selection import train_test_split\n",
    "from sklearn.neighbors import KNeighborsClassifier\n",
    "from sklearn.datasets import load_digits\n",
    "\n",
    "digits = load_digits()\n",
    "x,y = digits.data, digits.target\n",
    "\n",
    "x_train,x_test,y_train,y_test = train_test_split(x,y,test_size=0.3,random_state=3)\n",
    "\n",
    "k = 3\n",
    "knn = KNeighborsClassifier(k)\n",
    "\n",
    "knn.fit(x_train,y_train)\n",
    "\n",
    "y_test_pred = knn.predict(x_test)\n",
    "\n",
    "ac = accuracy_score(y_test,y_test_pred)\n",
    "\n",
    "cm = confusion_matrix(y_test,y_test_pred)\n",
    "\n",
    "print(f\"Accuracy: {ac:0.2f}\")\n",
    "\n",
    "print(\"Confusion Matrix: \")\n",
    "print(cm)\n"
   ]
  },
  {
   "cell_type": "code",
   "execution_count": null,
   "id": "ea19323b-d961-426d-9441-b1f44249f386",
   "metadata": {},
   "outputs": [],
   "source": []
  },
  {
   "cell_type": "code",
   "execution_count": null,
   "id": "62469288-99dd-416c-b7e6-a7a88db47246",
   "metadata": {},
   "outputs": [],
   "source": []
  }
 ],
 "metadata": {
  "kernelspec": {
   "display_name": "Python 3 (ipykernel)",
   "language": "python",
   "name": "python3"
  },
  "language_info": {
   "codemirror_mode": {
    "name": "ipython",
    "version": 3
   },
   "file_extension": ".py",
   "mimetype": "text/x-python",
   "name": "python",
   "nbconvert_exporter": "python",
   "pygments_lexer": "ipython3",
   "version": "3.12.4"
  }
 },
 "nbformat": 4,
 "nbformat_minor": 5
}
